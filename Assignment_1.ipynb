{
  "nbformat": 4,
  "nbformat_minor": 0,
  "metadata": {
    "colab": {
      "provenance": [],
      "toc_visible": true
    },
    "kernelspec": {
      "name": "python3",
      "display_name": "Python 3"
    },
    "language_info": {
      "name": "python"
    }
  },
  "cells": [
    {
      "cell_type": "markdown",
      "source": [
        "\n",
        "# Assignment-1\n",
        "\n",
        "> Submitted by **Sanchita Devi**\n",
        "\n",
        "\n",
        "\n"
      ],
      "metadata": {
        "id": "LyDMVUBtipPv"
      }
    },
    {
      "cell_type": "markdown",
      "source": [
        "## Question 1: The Treasure Hunt\n",
        "\n",
        "Story: You are a treasure hunter on an island filled with mysterious caves. Each cave has a number\n",
        "of treasures hidden inside. Write a function `total_treasure(caves)` that takes a list of integers\n",
        "representing the treasures in each cave and returns the total amount of treasure you can collect."
      ],
      "metadata": {
        "id": "zAziV_rETuSL"
      }
    },
    {
      "source": [
        "def total_treasure(caves):\n",
        "  # total amount of treasure.\n",
        "  total_treasure = sum(caves)\n",
        "  return total_treasure\n",
        "\n",
        "caves = [3, 5, 2, 8, 1]\n",
        "total = total_treasure(caves)\n",
        "print(f\"Total treasure collected: {total}\")  # Output: Total treasure collected: 19"
      ],
      "cell_type": "code",
      "metadata": {
        "colab": {
          "base_uri": "https://localhost:8080/"
        },
        "id": "O3Yr_NyYVS-y",
        "outputId": "d2af9915-4672-42e8-8442-f9a4d285ad4a"
      },
      "execution_count": null,
      "outputs": [
        {
          "output_type": "stream",
          "name": "stdout",
          "text": [
            "Total treasure collected: 19\n"
          ]
        }
      ]
    },
    {
      "cell_type": "markdown",
      "source": [
        "## Question 2: The Magical Forest\n",
        "Story: In a magical forest, each creature has a name, and some names are the same. Write a\n",
        "function `unique_creatures(creatures)` that takes a list of creature names and returns a list of unique\n",
        "names to help you identify each creature without confusion."
      ],
      "metadata": {
        "id": "16hK4L7rtjLM"
      }
    },
    {
      "cell_type": "code",
      "source": [
        "def unique_creatures(creatures):\n",
        "    # Convert list of creatures to a set to remove duplicates\n",
        "    unique_names = (set(creatures))\n",
        "    # Converting the set back to a list to maintain the structure.\n",
        "    return list(unique_names)\n",
        "\n",
        "creatures_name = [\"Dragon\", \"Elephant\", \"Unicorn\", \"Jellyfish\", \"Unicorn\"]\n",
        "unique_names = unique_creatures(creatures_name)\n",
        "print(f\"Unique names: {unique_names}\")\n",
        "# Output : Unique names: ['Elephant', 'Dragon', 'Unicorn', 'Jellyfish']"
      ],
      "metadata": {
        "colab": {
          "base_uri": "https://localhost:8080/"
        },
        "id": "4r-hFsAKBMAM",
        "outputId": "289db1eb-2509-4465-f65d-ceaf47fba599"
      },
      "execution_count": null,
      "outputs": [
        {
          "output_type": "stream",
          "name": "stdout",
          "text": [
            "Unique names: ['Elephant', 'Dragon', 'Unicorn', 'Jellyfish']\n"
          ]
        }
      ]
    },
    {
      "cell_type": "markdown",
      "source": [
        "## Question 3: The Robot Factory\n",
        "Story: In a robot factory, each robot has a unique serial number. Write a function\n",
        "`is_serial_number_valid(serial_number)` that checks if a given serial number follows the\n",
        "correct format (e.g., it must be 8 characters long and contain at least one letter and one number)."
      ],
      "metadata": {
        "id": "Q6RBneYhtneq"
      }
    },
    {
      "cell_type": "code",
      "source": [
        "def is_serial_number_valid(serial_number) :\n",
        "  # Checking the serial number length is 8\n",
        "    if len(serial_number) != 8:\n",
        "        return False\n",
        "\n",
        "    # Initializing flags to check letter and number\n",
        "    has_letter = False\n",
        "    has_num = False\n",
        "    # Iterating each character in the serial number\n",
        "    for char in serial_number:\n",
        "        # Checking if the character is a letter or number\n",
        "        if char.isalpha():\n",
        "            has_letter = True\n",
        "        elif char.isdigit():\n",
        "            has_num = True\n",
        "    # Checking if both letter and number are present\n",
        "    return has_letter and has_num\n",
        "\n",
        "serial_number = \"ABCD1234\"\n",
        "serial_number1 = \"12345678\"\n",
        "\n",
        "print(f\"Serial {serial_number} is valid: \", is_serial_number_valid(serial_number))  # Output: Serial ABCD1234 is valid:  True\n",
        "print(f\"Serial {serial_number1} is valid: \", is_serial_number_valid(serial_number1))  # Output: Serial 12345678 is valid:  False"
      ],
      "metadata": {
        "colab": {
          "base_uri": "https://localhost:8080/"
        },
        "id": "E2RHmNSkBLTE",
        "outputId": "12a06003-1d99-4ab5-d835-65bf4e926a53"
      },
      "execution_count": null,
      "outputs": [
        {
          "output_type": "stream",
          "name": "stdout",
          "text": [
            "Serial ABCD1234 is valid:  True\n",
            "Serial 12345678 is valid:  False\n"
          ]
        }
      ]
    },
    {
      "cell_type": "markdown",
      "source": [
        "## Question 4: The Cosmic Explorer\n",
        "Story: As an explorer of the cosmos, you collect data about different planets. Write a function\n",
        "`planet_summary(planets)` that takes a dictionary where the keys are planet names and the values\n",
        "are their diameters, and returns a string summarizing the planet with the largest diameter."
      ],
      "metadata": {
        "id": "O6eGI87Ftqjx"
      }
    },
    {
      "cell_type": "code",
      "source": [
        "def planet_summary(planets):\n",
        "  # Find the planet with largest diameter using max function and key\n",
        "  largest_planet = max(planets, key=planets.get)\n",
        "\n",
        "  # Get the diameter of largest planet\n",
        "  largest_diameter = planets[largest_planet]\n",
        "\n",
        "  # Return a string summarizing the largest planet and its diameter\n",
        "  return f\"{largest_planet} is the largest planet with a diameter of {largest_diameter}.\"\n",
        "\n",
        "planets = {\n",
        "  \"Mercury\": 4879,\n",
        "  \"Venus\": 12104,\n",
        "  \"Earth\": 12742,\n",
        "  \"Mars\": 6779,\n",
        "  \"Jupiter\": 142984,\n",
        "  \"Saturn\": 120536,\n",
        "  \"Uranus\": 51118,\n",
        "  \"Neptune\": 49528\n",
        "}\n",
        "\n",
        "print(planet_summary(planets))  # Output: Jupiter is the largest planet with a diameter of 142984."
      ],
      "metadata": {
        "colab": {
          "base_uri": "https://localhost:8080/"
        },
        "id": "dojyzc57HfQR",
        "outputId": "2e3e8f1b-e11a-4add-dfc4-fa27bfa4b979"
      },
      "execution_count": null,
      "outputs": [
        {
          "output_type": "stream",
          "name": "stdout",
          "text": [
            "Jupiter is the largest planet with a diameter of 142984.\n"
          ]
        }
      ]
    },
    {
      "cell_type": "markdown",
      "source": [
        "## Question 5: The Fantasy Game\n",
        "Story: In a fantasy game, you have a character with various skills. Write a function\n",
        "`level_up(skills)` that takes a dictionary of skills and their levels, and increases each skill level\n",
        "by 1. If a skill reaches level 10, it should be capped at 10."
      ],
      "metadata": {
        "id": "5SDfbtbEtteD"
      }
    },
    {
      "cell_type": "code",
      "source": [
        "def level_up(skills):\n",
        "    # Iterate through each skill in the skills dictionary\n",
        "    for skill in skills:\n",
        "        # Check if the skill level is less than 10\n",
        "        if skills[skill] < 10:\n",
        "            # Increase the skill level by 1\n",
        "            skills[skill] += 1\n",
        "            # If the skill level reaches 10, cap it at 10\n",
        "    return skills\n",
        "\n",
        "skills = {\"strength\": 5, \"creativity\": 8, \"intelligence\": 3, \"leadership\" : 10}\n",
        "print(level_up(skills))\n",
        "# Output : {'strength': 6, 'creativity': 9, 'intelligence': 4, 'leadership': 10}"
      ],
      "metadata": {
        "colab": {
          "base_uri": "https://localhost:8080/"
        },
        "id": "DzbwkzviLiWN",
        "outputId": "3c8d94ce-4c8e-40ec-82ec-4b38a2ff7d42"
      },
      "execution_count": null,
      "outputs": [
        {
          "output_type": "stream",
          "name": "stdout",
          "text": [
            "{'strength': 6, 'creativity': 9, 'intelligence': 4, 'leadership': 10}\n"
          ]
        }
      ]
    },
    {
      "cell_type": "markdown",
      "source": [
        "## Question 6: The Bookstore Inventory\n",
        "Story: You own a bookstore and want to manage your inventory. Write a function\n",
        "`inventory_summary(inventory)` that takes a dictionary of book titles and their quantities, and\n",
        "returns a string listing all books that are out of stock."
      ],
      "metadata": {
        "id": "lHsDtI4RtwA7"
      }
    },
    {
      "cell_type": "code",
      "execution_count": null,
      "metadata": {
        "id": "moUiFy2FTnM2",
        "colab": {
          "base_uri": "https://localhost:8080/"
        },
        "outputId": "86a9c045-8d50-4bd1-82a3-e71facdf79d3"
      },
      "outputs": [
        {
          "output_type": "stream",
          "name": "stdout",
          "text": [
            "Out of stock books: The Lord of the Rings, Harry Potter\n"
          ]
        }
      ],
      "source": [
        "def inventory_summary(inventory):\n",
        "  out_of_stock_books = []\n",
        "  for book, quantity in inventory.items():\n",
        "    # If the quantity is zero, the book title is added to the out_of_stock_books list.\n",
        "    if quantity == 0:\n",
        "      out_of_stock_books.append(book)\n",
        "\n",
        "  if out_of_stock_books:\n",
        "    return \"Out of stock books: \" + \", \".join(out_of_stock_books)\n",
        "  else:\n",
        "    return \"All books are in stock.\"\n",
        "\n",
        "inventory = {\"The Alchemist\": 5, \"The Lord of the Rings\": 0, \"The old man and sea\": 2, \"Harry Potter\": 0}\n",
        "print(inventory_summary(inventory))\n",
        "# Output: Out of stock books: The Lord of the Rings, Harry Potter\n"
      ]
    }
  ]
}